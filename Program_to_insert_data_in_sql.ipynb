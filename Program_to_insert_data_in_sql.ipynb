{
 "cells": [
  {
   "cell_type": "code",
   "execution_count": 5,
   "id": "d3b11829",
   "metadata": {},
   "outputs": [],
   "source": [
    "# PostgreSQL: Cerate Table"
   ]
  },
  {
   "cell_type": "code",
   "execution_count": 7,
   "id": "b80efe16",
   "metadata": {},
   "outputs": [
    {
     "name": "stdout",
     "output_type": "stream",
     "text": [
      "Requirement already satisfied: psycopg2 in c:\\users\\ashvini\\appdata\\local\\programs\\python\\python39\\lib\\site-packages (2.9.5)\n"
     ]
    },
    {
     "name": "stderr",
     "output_type": "stream",
     "text": [
      "\n",
      "[notice] A new release of pip available: 22.2.2 -> 23.0.1\n",
      "[notice] To update, run: python.exe -m pip install --upgrade pip\n"
     ]
    }
   ],
   "source": [
    "!pip install psycopg2"
   ]
  },
  {
   "cell_type": "code",
   "execution_count": 4,
   "id": "47e3fad7",
   "metadata": {},
   "outputs": [],
   "source": [
    "import psycopg2"
   ]
  },
  {
   "cell_type": "code",
   "execution_count": 11,
   "id": "dbaf08fe",
   "metadata": {},
   "outputs": [],
   "source": [
    "#Create the connection with database\n",
    "try:\n",
    "    conn = psycopg2.connect(\"host=127.0.0.1 dbname=postgres user=postgres password = 7794\")\n",
    "except psycopg2.Error as e:\n",
    "        print(\"Error: Unable to make connection to the postgres database\")\n",
    "        print(e)"
   ]
  },
  {
   "cell_type": "code",
   "execution_count": 12,
   "id": "e58551a2",
   "metadata": {},
   "outputs": [],
   "source": [
    "#using connection genrate cursor for execting quaries\n",
    "try:\n",
    "    cur = conn.cursor()\n",
    "except psycopg2.Error as e:\n",
    "    print(\"Error: Not get Curser to the database\")\n",
    "    print(e)"
   ]
  },
  {
   "cell_type": "code",
   "execution_count": 13,
   "id": "38b83cdf",
   "metadata": {},
   "outputs": [],
   "source": [
    "# Setting the commit to be true\n",
    "conn.set_session(autocommit=True)"
   ]
  },
  {
   "cell_type": "code",
   "execution_count": 18,
   "id": "7e76ab2f",
   "metadata": {},
   "outputs": [
    {
     "name": "stdout",
     "output_type": "stream",
     "text": [
      "database \"newdatabase\" already exists\n",
      "\n"
     ]
    }
   ],
   "source": [
    "#cerate a database\n",
    "try:\n",
    "    cur.execute(\"CREATE DATABASE newdatabase\") # executing CREATE DATABASE name SQL Quary\n",
    "except psycopg2.Error as e:\n",
    "    print(e)\n"
   ]
  },
  {
   "cell_type": "code",
   "execution_count": 20,
   "id": "51456135",
   "metadata": {},
   "outputs": [],
   "source": [
    "try:\n",
    "    conn.close()\n",
    "except psycopg2.Error as e:\n",
    "    print(e)\n",
    "    \n",
    "try:\n",
    "    conn = psycopg2.connect(\"host=127.0.0.1 dbname=newdatabase user=postgres password= 7794\")\n",
    "except psycopg2.Error as e:\n",
    "    print(\"Error: Not Making Connection\")\n",
    "    print(e)\n",
    "try:\n",
    "    cur = conn.cursor()\n",
    "except psycopg2.Error as e:\n",
    "    print(\"Error: Not get Curser to the database\")\n",
    "    print(e)\n",
    "conn.set_session(autocommit = True)"
   ]
  },
  {
   "cell_type": "code",
   "execution_count": 27,
   "id": "b7e27f14",
   "metadata": {},
   "outputs": [],
   "source": [
    "try:\n",
    "    cur.execute(\"CREATE TABLE IF NOT EXISTS customer(customer_id int, First_Name varchar, last_Name varchar, age int, gender varchar, amount int );\")\n",
    "except psycopg2.Error as e:\n",
    "    print(\"Error: For creating table\")\n",
    "    print(e)"
   ]
  },
  {
   "cell_type": "code",
   "execution_count": 33,
   "id": "a04b5106",
   "metadata": {},
   "outputs": [],
   "source": [
    "try:\n",
    "    cur.execute(\"INSERT INTO customer (customer_id, First_Name, last_Name, age, gender, amount)\\\n",
    "                VALUES (%s, %s, %s, %s, %s, %s)\",\\\n",
    "                (1, \"Ranvir\", \"Sinha\", 54, \"Male\", 5000)) # example name\n",
    "except psycopg2.Error as e:\n",
    "        print(\"Error: NOT Instrting Rows\")\n",
    "        print(e)\n",
    "\n",
    "try:\n",
    "    cur.execute(\"INSERT INTO customer (customer_id, First_Name, last_Name, age, gender, amount)\\\n",
    "                VALUES(%s, %s, %s, %s, %s, %s)\",\\\n",
    "                (2, \"Deepika\", \"Padukon\", 45, \"Female\", 8000)) # example name\n",
    "except psycopg2.Error as e:\n",
    "        print(\"Error: Instrting Rows\")\n",
    "        print(e)\n",
    "            \n",
    "try:\n",
    "    cur.execute(\"INSERT INTO customer (customer_id, First_Name, last_Name, age, gender, amount)\\\n",
    "                VALUES(%s, %s, %s, %s, %s, %s)\",\\\n",
    "                (3, \"Raj\", \"Kapoor\", 45, \"Male\", 10000)) # example name\n",
    "except psycopg2.Error as e:\n",
    "        print(\"Error: Instrting Rows\")\n",
    "        print(e)\n",
    "        \n",
    "try:\n",
    "    cur.execute(\"INSERT INTO customer (customer_id, First_Name, last_Name, age, gender, amount)\\\n",
    "                VALUES(%s, %s, %s, %s, %s, %s)\",\\\n",
    "                (4, \"Kiran\", \"Rao\", 40, \"Female\", 10000)) # example name\n",
    "except psycopg2.Error as e:\n",
    "        print(\"Error: Instrting Rows\")\n",
    "        print(e)"
   ]
  },
  {
   "cell_type": "code",
   "execution_count": 35,
   "id": "4a8ff746",
   "metadata": {},
   "outputs": [
    {
     "name": "stdout",
     "output_type": "stream",
     "text": [
      "(1, 'Ranvir', 'Sinha', 54, 'Male', 5000)\n",
      "(2, 'Deepika', 'Padukon', 45, 'Female', 8000)\n",
      "(3, 'Raj', 'Kapoor', 45, 'Male', 10000)\n",
      "(4, 'Kiran', 'Rao', 40, 'Female', 10000)\n"
     ]
    }
   ],
   "source": [
    "# Validate Data\n",
    "try:\n",
    "    cur.execute(\"SELECT * FROM customer;\")\n",
    "except psycopg2.Error as e:\n",
    "    print(\"Error: Select *\")\n",
    "    print(e)\n",
    "    \n",
    "row = cur.fetchone()\n",
    "while row:\n",
    "    print(row)\n",
    "    row = cur.fetchone()"
   ]
  },
  {
   "cell_type": "code",
   "execution_count": 36,
   "id": "9fc91059",
   "metadata": {},
   "outputs": [],
   "source": [
    "cur.close()\n",
    "conn.close()"
   ]
  }
 ],
 "metadata": {
  "kernelspec": {
   "display_name": "Python 3 (ipykernel)",
   "language": "python",
   "name": "python3"
  },
  "language_info": {
   "codemirror_mode": {
    "name": "ipython",
    "version": 3
   },
   "file_extension": ".py",
   "mimetype": "text/x-python",
   "name": "python",
   "nbconvert_exporter": "python",
   "pygments_lexer": "ipython3",
   "version": "3.9.2"
  }
 },
 "nbformat": 4,
 "nbformat_minor": 5
}
